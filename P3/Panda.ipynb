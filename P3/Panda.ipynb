{
 "cells": [
  {
   "cell_type": "code",
   "execution_count": 25,
   "metadata": {},
   "outputs": [],
   "source": [
    "\n",
    "import numpy as np\n",
    "import pandas as pd\n",
    "\n",
    "\n",
    "def cleanData(data):\n",
    "    data = data.dropna(subset=['score', 'user score', 'critics', 'users'])\n",
    "    data['score']=pd.to_numeric(data['score'], errors ='coerce')\n",
    "    data['user score']=pd.to_numeric(data['user score'], errors ='coerce').astype(np.float64)\n",
    "    data['critics']=pd.to_numeric(data['critics'], errors ='coerce').astype(np.float64)\n",
    "    data['users']=pd.to_numeric(data['users'], errors ='coerce').astype(np.float64)\n",
    "    data = data.dropna(subset=['score', 'user score', 'critics', 'users'])\n",
    "    data['score'] = data['score'] / 10.0\n",
    "    return data\n",
    "\n",
    "def load_data_csv(path,x_colum,y_colum):\n",
    "    data = pd.read_csv(path)\n",
    "    data = cleanData(data)\n",
    "    X = data[x_colum].to_numpy()\n",
    "    y = data[y_colum].to_numpy()\n",
    "    return X, y\n",
    "\n",
    "def zscore_normalize_features(X):\n",
    "    \"\"\"\n",
    "    computes  X, zcore normalized by column\n",
    "\n",
    "    Args:\n",
    "      X (ndarray (m,n))     : input data, m examples, n features\n",
    "\n",
    "    Returns:\n",
    "      X_norm (ndarray (m,n)): input normalized by column\n",
    "      mu (ndarray (n,))     : mean of each feature\n",
    "      sigma (ndarray (n,))  : standard deviation of each feature\n",
    "    \"\"\"\n",
    "    mu = np.mean(X, axis=0)\n",
    "    sigma = np.std(X, axis=0)\n",
    "    X_norm = (X - mu) / sigma\n",
    "    return X_norm, mu, sigma\n",
    "\n",
    "def load_data_csv_multi(path,x1_colum,x2_colum,x3_colum,y_colum):\n",
    "    data = pd.read_csv(path)\n",
    "    data = cleanData(data)\n",
    "    x1 = data[x1_colum].to_numpy()\n",
    "    x2 = data[x2_colum].to_numpy()\n",
    "    x3 = data[x3_colum].to_numpy()\n",
    "    X = np.array([x1, x2, x3])\n",
    "    X = X.T\n",
    "    y = data[y_colum].to_numpy()\n",
    "    X_norm, mu, sigma = zscore_normalize_features(X)\n",
    "    return X_norm, y\n",
    "\n",
    "    \n"
   ]
  },
  {
   "cell_type": "code",
   "execution_count": 29,
   "metadata": {},
   "outputs": [],
   "source": [
    "## 0 Malo, 1 Regular, 2 Notable, 3 Sobresaliente, 4 Must Play.\n",
    "## 0 Malo, 1 Bueno\n",
    "def load_data_csv_multi_logistic(path,x1_colum,x2_colum,x3_colum,y_colum):\n",
    "    X,y = load_data_csv_multi(path,x1_colum,x2_colum,x3_colum,y_colum)\n",
    "    #TODO convertir la a clases 0,1.\n",
    "    y_logistic = np.where(y >= 7, 1, 0)\n",
    "    return X,y_logistic\n",
    "        "
   ]
  },
  {
   "cell_type": "code",
   "execution_count": 30,
   "metadata": {},
   "outputs": [
    {
     "data": {
      "text/plain": [
       "(array([[ 2.2637034 , -0.1162566 ,  4.18946716],\n",
       "        [ 2.18295864, -0.28842454,  0.3470819 ],\n",
       "        [ 2.18295864,  2.29409459,  2.72616756],\n",
       "        ...,\n",
       "        [-4.35736681, -0.97709631, -0.04303091],\n",
       "        [-4.43811157, -0.86231768,  0.29737641],\n",
       "        [-4.84183537, -0.919707  , -0.02646241]]),\n",
       " array([1, 1, 1, ..., 0, 0, 0]))"
      ]
     },
     "execution_count": 30,
     "metadata": {},
     "output_type": "execute_result"
    }
   ],
   "source": [
    "load_data_csv_multi_logistic('data/games-data.csv', 'score', 'critics', 'users', 'user score')"
   ]
  },
  {
   "cell_type": "code",
   "execution_count": 1,
   "metadata": {},
   "outputs": [
    {
     "ename": "NameError",
     "evalue": "name 'load_data_csv_multi_logistic' is not defined",
     "output_type": "error",
     "traceback": [
      "\u001b[1;31m---------------------------------------------------------------------------\u001b[0m",
      "\u001b[1;31mNameError\u001b[0m                                 Traceback (most recent call last)",
      "Cell \u001b[1;32mIn[1], line 6\u001b[0m\n\u001b[0;32m      3\u001b[0m \u001b[38;5;28;01mimport\u001b[39;00m \u001b[38;5;21;01mmatplotlib\u001b[39;00m\u001b[38;5;21;01m.\u001b[39;00m\u001b[38;5;21;01mpyplot\u001b[39;00m \u001b[38;5;28;01mas\u001b[39;00m \u001b[38;5;21;01mplt\u001b[39;00m\n\u001b[0;32m      4\u001b[0m \u001b[38;5;28;01mfrom\u001b[39;00m \u001b[38;5;21;01mmpl_toolkits\u001b[39;00m\u001b[38;5;21;01m.\u001b[39;00m\u001b[38;5;21;01mmplot3d\u001b[39;00m \u001b[38;5;28;01mimport\u001b[39;00m Axes3D\n\u001b[1;32m----> 6\u001b[0m X, y_logistic \u001b[38;5;241m=\u001b[39m load_data_csv_multi_logistic(\u001b[38;5;124m'\u001b[39m\u001b[38;5;124mdata/games-data.csv\u001b[39m\u001b[38;5;124m'\u001b[39m, \u001b[38;5;124m'\u001b[39m\u001b[38;5;124mscore\u001b[39m\u001b[38;5;124m'\u001b[39m, \u001b[38;5;124m'\u001b[39m\u001b[38;5;124mcritics\u001b[39m\u001b[38;5;124m'\u001b[39m, \u001b[38;5;124m'\u001b[39m\u001b[38;5;124musers\u001b[39m\u001b[38;5;124m'\u001b[39m, \u001b[38;5;124m'\u001b[39m\u001b[38;5;124muser score\u001b[39m\u001b[38;5;124m'\u001b[39m)\n\u001b[0;32m      7\u001b[0m fig \u001b[38;5;241m=\u001b[39m plt\u001b[38;5;241m.\u001b[39mfigure()\n\u001b[0;32m      8\u001b[0m ax \u001b[38;5;241m=\u001b[39m fig\u001b[38;5;241m.\u001b[39madd_subplot(\u001b[38;5;241m111\u001b[39m, projection\u001b[38;5;241m=\u001b[39m\u001b[38;5;124m'\u001b[39m\u001b[38;5;124m3d\u001b[39m\u001b[38;5;124m'\u001b[39m)\n",
      "\u001b[1;31mNameError\u001b[0m: name 'load_data_csv_multi_logistic' is not defined"
     ]
    }
   ],
   "source": [
    "import pandas as pd\n",
    "import numpy as np\n",
    "import matplotlib.pyplot as plt\n",
    "from mpl_toolkits.mplot3d import Axes3D\n",
    "\n",
    "X, y_logistic = load_data_csv_multi_logistic('data/games-data.csv', 'score', 'critics', 'users', 'user score')\n",
    "fig = plt.figure()\n",
    "ax = fig.add_subplot(111, projection='3d')\n",
    "\n",
    "colors = ['red' if label == 0 else 'yellow' for label in y_logistic]\n",
    "\n",
    "ax.scatter(X[:, 0], X[:, 1], X[:, 2], c=colors)\n",
    "\n",
    "ax.set_xlim(-5, 2)  \n",
    "ax.set_ylim(0, 15)  \n",
    "ax.set_zlim(-1.5, 6)  \n",
    "\n",
    "ax.set_xlabel('Score')\n",
    "ax.set_ylabel('Users')\n",
    "ax.set_zlabel('Critics')\n",
    "plt.title('Relación entre Score, Critics y Users con UserScore')\n",
    "\n",
    "plt.show()"
   ]
  }
 ],
 "metadata": {
  "kernelspec": {
   "display_name": "base",
   "language": "python",
   "name": "python3"
  },
  "language_info": {
   "codemirror_mode": {
    "name": "ipython",
    "version": 3
   },
   "file_extension": ".py",
   "mimetype": "text/x-python",
   "name": "python",
   "nbconvert_exporter": "python",
   "pygments_lexer": "ipython3",
   "version": "3.12.4"
  }
 },
 "nbformat": 4,
 "nbformat_minor": 2
}
